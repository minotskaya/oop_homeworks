{
 "cells": [
  {
   "cell_type": "code",
   "execution_count": 345,
   "metadata": {},
   "outputs": [],
   "source": [
    "class Player():\n",
    "    def __init__(self, hp=100, mana=50, att=50, level_status=1, coins=100):\n",
    "        self.hp = hp\n",
    "        self.mana = mana\n",
    "        self.att = att\n",
    "        self.level_status = level_status\n",
    "        self.coins = coins\n",
    "    \n",
    "    def __level_up(self):\n",
    "        self.hp += 20\n",
    "        if self.hp > 100:\n",
    "            self.hp = 100\n",
    "        self.level_status += 1 \n",
    "        print(f'Congratulations! Your level is {self.level_status}!')\n",
    "    \n",
    "    def mana_improvement(self):\n",
    "        if self.coins >= 40:\n",
    "            self.mana += 10\n",
    "            self.coins -= 40\n",
    "            print(f'You\\'ve improved your mana to {self.mana}, it cost you 40 coins, now you have {self.coins} coins')\n",
    "        else:\n",
    "            print(f'You don\\'t have enough coins')\n",
    "        if self.mana >= 100:\n",
    "            self.mana = self.mana - 100\n",
    "            self.__level_up()\n",
    "            \n",
    "    def attack_improvement(self):\n",
    "        if self.coins >= 20:\n",
    "            self.att += 10\n",
    "            self.coins -= 20\n",
    "            print(f'You\\'ve improved your attack to {self.att}, it cost you 20 coins, now you have {self.coins} coins')\n",
    "            if self.att > 100:\n",
    "                self.att = 100\n",
    "        else:\n",
    "            print(f'You don\\'t have enough coins')\n",
    "    \n",
    "    def hp_improvement(self):\n",
    "        if self.coins >= 20:\n",
    "            self.hp += 10\n",
    "            self.coins -= 20\n",
    "            print(f'You\\'ve improved your hp to {self.hp}, it cost you 20 coins, now you have {self.coins} coins')\n",
    "        else:\n",
    "            print(f'You don\\'t have enough coins')\n",
    "    \n",
    "    def attack(self):\n",
    "        if self.att >= 10 and self.att < 30:\n",
    "            self.mana += 20\n",
    "            self.att -= 10\n",
    "        elif self.att >= 30 and self.att < 50:\n",
    "            self.mana += 30\n",
    "            self.att -= 20\n",
    "        elif self.att >= 50 and self.att < 70:\n",
    "            self.mana += 40\n",
    "            self.att -= 30\n",
    "        elif self.att >= 70 and self.att < 90:\n",
    "            self.mana += 50\n",
    "            self.att -= 40\n",
    "        elif self.att == 100:\n",
    "            self.mana += 80\n",
    "            self.att -= 60\n",
    "            print('SUPER ATTACK!!!')\n",
    "        elif self.att < 10:\n",
    "            print('You don\\'t have enough attack points')\n",
    "        print(f'You\\'ve made an attack and improved your mana to {self.mana}')\n",
    "        if self.mana >= 100:\n",
    "                self.__level_up()\n",
    "                self.mana = self.mana - 100\n",
    "    \n",
    "    def get_more_coins(self):\n",
    "        if self.hp >= 50:\n",
    "            self.coins += 20\n",
    "            self.hp -= 50\n",
    "            if self.hp == 0:\n",
    "                print('Sorry, you are dead, as your hp points 0')\n",
    "            print(f'You\\'ve got extra 20 coins, now you have {self.coins} coins, it cost you 50 hp points')\n",
    "        else:\n",
    "            print(f'You don\\'t have enough hp points')\n",
    "    \n",
    "    def __repr__(self):\n",
    "        return f\"\"\"Player(hp={self.hp}, mana={self.mana}, att={self.att},\n",
    "        level_status={self.level_status}, coins={self.coins})\"\"\""
   ]
  },
  {
   "cell_type": "code",
   "execution_count": 346,
   "metadata": {},
   "outputs": [],
   "source": [
    "player1 = Player()"
   ]
  },
  {
   "cell_type": "code",
   "execution_count": 347,
   "metadata": {},
   "outputs": [
    {
     "data": {
      "text/plain": [
       "Player(hp=100, mana=50, att=50,\n",
       "        level_status=1, coins=100)"
      ]
     },
     "execution_count": 347,
     "metadata": {},
     "output_type": "execute_result"
    }
   ],
   "source": [
    "player1"
   ]
  },
  {
   "cell_type": "code",
   "execution_count": 348,
   "metadata": {},
   "outputs": [
    {
     "name": "stdout",
     "output_type": "stream",
     "text": [
      "You've made an attack and improved your mana to 90\n"
     ]
    }
   ],
   "source": [
    "player1.attack()"
   ]
  },
  {
   "cell_type": "code",
   "execution_count": 349,
   "metadata": {},
   "outputs": [
    {
     "data": {
      "text/plain": [
       "Player(hp=100, mana=90, att=20,\n",
       "        level_status=1, coins=100)"
      ]
     },
     "execution_count": 349,
     "metadata": {},
     "output_type": "execute_result"
    }
   ],
   "source": [
    "player1"
   ]
  },
  {
   "cell_type": "code",
   "execution_count": 350,
   "metadata": {},
   "outputs": [
    {
     "name": "stdout",
     "output_type": "stream",
     "text": [
      "You've improved your mana to 100, it cost you 40 coins, now you have 60 coins\n",
      "Congratulations! Your level is 2!\n"
     ]
    }
   ],
   "source": [
    "player1.mana_improvement()"
   ]
  },
  {
   "cell_type": "code",
   "execution_count": 351,
   "metadata": {},
   "outputs": [
    {
     "data": {
      "text/plain": [
       "Player(hp=100, mana=0, att=20,\n",
       "        level_status=2, coins=60)"
      ]
     },
     "execution_count": 351,
     "metadata": {},
     "output_type": "execute_result"
    }
   ],
   "source": [
    "player1"
   ]
  },
  {
   "cell_type": "code",
   "execution_count": 352,
   "metadata": {},
   "outputs": [
    {
     "name": "stdout",
     "output_type": "stream",
     "text": [
      "You've improved your attack to 30, it cost you 20 coins, now you have 40 coins\n"
     ]
    }
   ],
   "source": [
    "player1.attack_improvement()"
   ]
  },
  {
   "cell_type": "code",
   "execution_count": 353,
   "metadata": {},
   "outputs": [
    {
     "name": "stdout",
     "output_type": "stream",
     "text": [
      "You've got extra 20 coins, now you have 60 coins, it cost you 50 hp points\n"
     ]
    }
   ],
   "source": [
    "player1.get_more_coins()"
   ]
  },
  {
   "cell_type": "code",
   "execution_count": 354,
   "metadata": {},
   "outputs": [
    {
     "data": {
      "text/plain": [
       "Player(hp=50, mana=0, att=30,\n",
       "        level_status=2, coins=60)"
      ]
     },
     "execution_count": 354,
     "metadata": {},
     "output_type": "execute_result"
    }
   ],
   "source": [
    "player1"
   ]
  },
  {
   "cell_type": "code",
   "execution_count": 355,
   "metadata": {},
   "outputs": [
    {
     "name": "stdout",
     "output_type": "stream",
     "text": [
      "You've made an attack and improved your mana to 30\n"
     ]
    }
   ],
   "source": [
    "player1.attack()"
   ]
  },
  {
   "cell_type": "code",
   "execution_count": 356,
   "metadata": {},
   "outputs": [
    {
     "data": {
      "text/plain": [
       "Player(hp=50, mana=30, att=10,\n",
       "        level_status=2, coins=60)"
      ]
     },
     "execution_count": 356,
     "metadata": {},
     "output_type": "execute_result"
    }
   ],
   "source": [
    "player1"
   ]
  },
  {
   "cell_type": "code",
   "execution_count": 357,
   "metadata": {},
   "outputs": [
    {
     "name": "stdout",
     "output_type": "stream",
     "text": [
      "You've improved your mana to 40, it cost you 40 coins, now you have 20 coins\n"
     ]
    }
   ],
   "source": [
    "player1.mana_improvement()"
   ]
  },
  {
   "cell_type": "code",
   "execution_count": 358,
   "metadata": {},
   "outputs": [
    {
     "data": {
      "text/plain": [
       "Player(hp=50, mana=40, att=10,\n",
       "        level_status=2, coins=20)"
      ]
     },
     "execution_count": 358,
     "metadata": {},
     "output_type": "execute_result"
    }
   ],
   "source": [
    "player1"
   ]
  },
  {
   "cell_type": "code",
   "execution_count": 359,
   "metadata": {},
   "outputs": [
    {
     "name": "stdout",
     "output_type": "stream",
     "text": [
      "You've made an attack and improved your mana to 60\n"
     ]
    }
   ],
   "source": [
    "player1.attack()"
   ]
  },
  {
   "cell_type": "code",
   "execution_count": 360,
   "metadata": {},
   "outputs": [
    {
     "data": {
      "text/plain": [
       "Player(hp=50, mana=60, att=0,\n",
       "        level_status=2, coins=20)"
      ]
     },
     "execution_count": 360,
     "metadata": {},
     "output_type": "execute_result"
    }
   ],
   "source": [
    "player1"
   ]
  },
  {
   "cell_type": "code",
   "execution_count": 361,
   "metadata": {},
   "outputs": [
    {
     "name": "stdout",
     "output_type": "stream",
     "text": [
      "You've improved your hp to 60, it cost you 20 coins, now you have 0 coins\n"
     ]
    }
   ],
   "source": [
    "player1.hp_improvement()"
   ]
  },
  {
   "cell_type": "code",
   "execution_count": 362,
   "metadata": {},
   "outputs": [
    {
     "name": "stdout",
     "output_type": "stream",
     "text": [
      "You've got extra 20 coins, now you have 20 coins, it cost you 50 hp points\n"
     ]
    }
   ],
   "source": [
    "player1.get_more_coins()"
   ]
  },
  {
   "cell_type": "code",
   "execution_count": 363,
   "metadata": {},
   "outputs": [
    {
     "data": {
      "text/plain": [
       "Player(hp=10, mana=60, att=0,\n",
       "        level_status=2, coins=20)"
      ]
     },
     "execution_count": 363,
     "metadata": {},
     "output_type": "execute_result"
    }
   ],
   "source": [
    "player1"
   ]
  }
 ],
 "metadata": {
  "kernelspec": {
   "display_name": "Python 3",
   "language": "python",
   "name": "python3"
  },
  "language_info": {
   "codemirror_mode": {
    "name": "ipython",
    "version": 3
   },
   "file_extension": ".py",
   "mimetype": "text/x-python",
   "name": "python",
   "nbconvert_exporter": "python",
   "pygments_lexer": "ipython3",
   "version": "3.7.1"
  }
 },
 "nbformat": 4,
 "nbformat_minor": 2
}

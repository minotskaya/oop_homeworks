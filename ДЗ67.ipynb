{
 "cells": [
  {
   "cell_type": "markdown",
   "metadata": {},
   "source": [
    "# Задача 1\n",
    "\n",
    "Реализуйте свой класс Complex для комплексных чисел, аналогично встроенной реализации complex: 1. Добавьте конструктор класса 2. Реализуйте операции проверки на равенство, сложения, вычитания, произведения и деления комплексных чисел (eq, add, sub, mul, truediv) 3. Реализуйте операцию модуля (abs, вызываемую как |c|) 4. Оба класса должны давать осмысленный вывод как при print, так и просто при вызове в ячейке\n",
    "\n",
    "p.s. обязательно использовать магические методы (см лабу)"
   ]
  },
  {
   "cell_type": "code",
   "execution_count": 12,
   "metadata": {},
   "outputs": [],
   "source": [
    "class Complex():\n",
    "    def __init__(self, re, im):\n",
    "        self.re = re\n",
    "        self.im = im\n",
    "        \n",
    "    def __eq__(self, other):\n",
    "        if self.re == other.re and self.im == other.im:\n",
    "            return True\n",
    "        else:\n",
    "            return False\n",
    "        \n",
    "    def __add__(self, other):\n",
    "        return Complex(self.re + other.re, self.im + other.im)\n",
    "    \n",
    "    def __sub__(self, other):\n",
    "        return Complex(self.re - other.re, self.im - other.im)\n",
    "    \n",
    "    def __mul__(self, other):\n",
    "        return Complex(self.re * other.re - self.im * other.im, self.re * other.im - self.im * other.re)\n",
    "    \n",
    "    def __truediv__(self, other):\n",
    "        return Complex((self.re * other.re + self.im * other.im)/(other.re**2 + other.im**2), (self.im * other.re - self.re * other.im)/(other.re**2 + other.im**2))\n",
    "    \n",
    "    def __repr__(self):\n",
    "        return (f'{self.re} + {self.im}*j')\n",
    "    \n",
    "    def __abs__(self):\n",
    "        return (self.re**2 + self.im**2)**(1/2)\n",
    "    \n",
    "a = Complex(2, 3)\n",
    "b = Complex(3, -5)"
   ]
  },
  {
   "cell_type": "code",
   "execution_count": 11,
   "metadata": {},
   "outputs": [],
   "source": []
  },
  {
   "cell_type": "markdown",
   "metadata": {},
   "source": [
    "# Задача 2\n",
    "\n",
    "Реализуйте свой класс 2-мерных векторов (похожа на задачу 1):\n",
    "- 1. Добавьте конструктор класса\n",
    "- 2. Реализуйте операции проверки на равенство векторов, сложения , вычитания, произведение вектора на число.\n",
    "- 3. Реализуйте операцию модуля (abs, вызываемую как |c|)\n",
    "- 4. Оба класса должны давать осмысленный вывод как при print, так и просто при вызове в ячейке"
   ]
  },
  {
   "cell_type": "code",
   "execution_count": 18,
   "metadata": {},
   "outputs": [],
   "source": [
    "class Vector_2():\n",
    "    def __init__(self, x, y):\n",
    "        self.x = x\n",
    "        self.y = y\n",
    "        \n",
    "    def __eq__(self, other):\n",
    "        if self.x == other.x and self.y == other.y:\n",
    "            return True\n",
    "        else:\n",
    "            return False\n",
    "        \n",
    "    def __add__(self, other):\n",
    "        return Vector_2(self.x + other.x, self.y + other.y)\n",
    "    \n",
    "    def __sub__(self, other):\n",
    "        return Vector_2(self.x - other.x, self.y - other.y)\n",
    "    \n",
    "    def __mul__(self, c):\n",
    "        return Vector_2(self.x * c, self.y * c)\n",
    "    \n",
    "    def __repr__(self):\n",
    "        return (f'({self.x}, {self.y})')\n",
    "    \n",
    "    def __abs__(self):\n",
    "        return (self.x**2 + self.y**2)**(1/2)"
   ]
  },
  {
   "cell_type": "code",
   "execution_count": 22,
   "metadata": {},
   "outputs": [],
   "source": [
    "a = Vector_2(0, 2)\n",
    "b = Vector_2(2, 1)"
   ]
  },
  {
   "cell_type": "markdown",
   "metadata": {},
   "source": [
    "# Задача 3\n",
    "\n",
    "Аналогично задаче 2 написать класс 3хмерных векторов."
   ]
  },
  {
   "cell_type": "code",
   "execution_count": 32,
   "metadata": {},
   "outputs": [],
   "source": [
    "class Vector_3():\n",
    "    def __init__(self, x, y, z):\n",
    "        self.x = x\n",
    "        self.y = y\n",
    "        self.z = z\n",
    "        \n",
    "    def __eq__(self, other):\n",
    "        if self.x == other.x and self.y == other.y and self.z == other.z:\n",
    "            return True\n",
    "        else:\n",
    "            return False\n",
    "        \n",
    "    def __add__(self, other):\n",
    "        return Vector_3(self.x + other.x, self.y + other.y, self.z + other.z)\n",
    "    \n",
    "    def __sub__(self, other):\n",
    "        return Vector_3(self.x - other.x, self.y - other.y, self.z - other.z)\n",
    "    \n",
    "    def __mul__(self, c):\n",
    "        return Vector_3(self.x * c, self.y * c, self.z * c)\n",
    "    \n",
    "    def __repr__(self):\n",
    "        return (f'({self.x}, {self.y}, {self.z})')\n",
    "    \n",
    "    def __abs__(self):\n",
    "        return (self.x**2 + self.y**2 + self.z**2)**(1/2)"
   ]
  },
  {
   "cell_type": "code",
   "execution_count": 33,
   "metadata": {},
   "outputs": [
    {
     "data": {
      "text/plain": [
       "(0, 2, 3)"
      ]
     },
     "execution_count": 33,
     "metadata": {},
     "output_type": "execute_result"
    }
   ],
   "source": [
    "a = Vector_3(0, 2, 3)\n",
    "b = Vector_3(2, 1, 0)\n",
    "a"
   ]
  },
  {
   "cell_type": "markdown",
   "metadata": {},
   "source": [
    "# Задача 4\n",
    "\n",
    "Аналогично задачам 2 и 3 написать класс N-мерных (n вводится при создании экземпляра класса) векторов."
   ]
  },
  {
   "cell_type": "code",
   "execution_count": 64,
   "metadata": {},
   "outputs": [],
   "source": [
    "class Vector_n():\n",
    "    def __init__(self, n, comps):\n",
    "        self.comps = comps\n",
    "        \n",
    "    def __eq__(self, other):\n",
    "        if self.comps == other.comps:\n",
    "            return True\n",
    "        else:\n",
    "            return False\n",
    "        \n",
    "    def __add__(self, other):\n",
    "        sums = []\n",
    "        for self_comp, other_comp in zip(self.comps, other.comps):\n",
    "            sums.append(self_comp + other_comp)\n",
    "        return Vector_n(len(sums), sums)\n",
    "    \n",
    "    def __sub__(self, other):\n",
    "        tmps = []\n",
    "        for self_comp, other_comp in zip(self.comps, other.comps):\n",
    "            tmps.append(self_comp - other_comp)\n",
    "        return Vector_n(len(tmps), tmps)\n",
    "    \n",
    "    def __mul__(self, c):\n",
    "        tmps = []\n",
    "        for comp in self.comps:\n",
    "            tmps.append(comp * c)\n",
    "        return Vector_n(len(tmps), tmps)\n",
    "    \n",
    "    def __repr__(self):\n",
    "        return '(' + ', '.join(map(str, self.comps)) + ')'\n",
    "            \n",
    "    \n",
    "    def __abs__(self):\n",
    "        summ = 0\n",
    "        for comp in self.comps:\n",
    "            summ += comp**2\n",
    "        return summ**(1/2)"
   ]
  },
  {
   "cell_type": "code",
   "execution_count": 65,
   "metadata": {},
   "outputs": [],
   "source": [
    "a = Vector_n(4, [1, 2, 4, 3])\n",
    "b = Vector_n(4, [1, 2, 4, 3])"
   ]
  },
  {
   "cell_type": "code",
   "execution_count": 66,
   "metadata": {},
   "outputs": [
    {
     "data": {
      "text/plain": [
       "5.477225575051661"
      ]
     },
     "execution_count": 66,
     "metadata": {},
     "output_type": "execute_result"
    }
   ],
   "source": [
    "abs(a)"
   ]
  },
  {
   "cell_type": "markdown",
   "metadata": {},
   "source": [
    "# Задача 5 =  задача 2 из лабы про ООП\n",
    "\n",
    "Вам на вход приходит последовательность целых чисел. Вам надо обрабатывать ее следующим образом: выводить на экран сумму первых пяти чисел этой последовательности, затем следующих 5 итд\n",
    "\n",
    "Но последовательность не дается вам сразу целиком. С течением времени к вам поступают её последовательные части. Например, сначала первые три элемента, потом следующие шесть, потом следующие два и т. д.\n",
    "\n",
    "Реализуйте класс Buffer, который будет накапливать в себе элементы последовательности и выводить сумму пятерок последовательных элементов по мере их накопления.\n",
    "\n",
    "Одним из требований к классу является то, что он не должен хранить в себе больше элементов, чем ему действительно необходимо, т. е. он не должен хранить элементы, которые уже вошли в пятерку, для которой была выведена сумма.\n",
    "\n",
    "Класс должен иметь следующий вид"
   ]
  },
  {
   "cell_type": "code",
   "execution_count": 85,
   "metadata": {},
   "outputs": [],
   "source": [
    "class Buffer:\n",
    "    def __init__(self):\n",
    "        self.current_seq = []\n",
    "\n",
    "    def add(self, *a):\n",
    "        self.current_seq.extend(a)\n",
    "        while len(self.current_seq) - 5 >= 0:\n",
    "            print(sum(self.current_seq[:5]))\n",
    "            self.current_seq = self.current_seq[5:]\n",
    "\n",
    "    def get_current_part(self):\n",
    "        return self.current_seq"
   ]
  },
  {
   "cell_type": "code",
   "execution_count": 86,
   "metadata": {},
   "outputs": [
    {
     "name": "stdout",
     "output_type": "stream",
     "text": [
      "17\n"
     ]
    },
    {
     "data": {
      "text/plain": [
       "[4]"
      ]
     },
     "execution_count": 86,
     "metadata": {},
     "output_type": "execute_result"
    }
   ],
   "source": [
    "b = Buffer()\n",
    "b.add(3,4,5,2,3,4)\n",
    "b.get_current_part()"
   ]
  },
  {
   "cell_type": "markdown",
   "metadata": {},
   "source": [
    "# Задача 6 = задача 3 из лабы про ООП\n",
    "\n",
    "Создайте правильные цепочки наследования классов для: Животное, собака, щенок, самолет, компьютер, имеющее лапы, летающее, орел, белка-летяга, разумное, человек, медуза, одуванчик.\n",
    "В эти классы добавьте конструкторы, а также методы для следующих действий (где надо): полаять, родить, сложить два числа, ужалить, подумать, взлететь, пустить корни, поесть, взять, а также следующие поля: возраст, латинское название (или модель). Прокомментируйте вашу логику"
   ]
  },
  {
   "cell_type": "code",
   "execution_count": 94,
   "metadata": {},
   "outputs": [],
   "source": [
    "class animal():\n",
    "    def __init__(self, name, age):\n",
    "        self.name = name\n",
    "        self.age = age\n",
    "    \n",
    "    def give_birth(self, baby):\n",
    "        print(f'{self.name} just gave birth to {baby}')\n",
    "        \n",
    "    def eat(self):\n",
    "        print(f'{self.name} eats')\n",
    "        \n",
    "class with_paws(animal):\n",
    "    pass\n",
    "\n",
    "class dog(with_paws):\n",
    "    def bark(self):\n",
    "        print('woof woof')\n",
    "\n",
    "class puppy(dog):\n",
    "    pass\n",
    "\n",
    "class flying():\n",
    "    def __init__(self, name):\n",
    "        self.name = name\n",
    "        \n",
    "    def take_off(self):\n",
    "        print(f'{self.name} took off')\n",
    "\n",
    "class plane(flying):\n",
    "    pass\n",
    "\n",
    "class computer():\n",
    "    def __init__(self, model):\n",
    "        self.model = model\n",
    "        \n",
    "    def add_numbers(self, a, b):\n",
    "        return a+b\n",
    "\n",
    "class eagle(animal, flying):\n",
    "    pass\n",
    "\n",
    "class flying_squirrel(with_paws, flying):\n",
    "    pass\n",
    "\n",
    "class razumnoe(animal):\n",
    "    def think(self):\n",
    "        print(f'{self.name} is thinking...')\n",
    "\n",
    "class human(razumnoe):\n",
    "    pass\n",
    "\n",
    "class jellyfish(animal):\n",
    "    def to_sting(self):\n",
    "        print(f'{self.name} stung you :)')\n",
    "\n",
    "class dandelion():\n",
    "    def __init__(self, name):\n",
    "        self.name = name\n",
    "        \n",
    "    def take_root(self):\n",
    "        print(f'{self.name} took root')"
   ]
  },
  {
   "cell_type": "markdown",
   "metadata": {},
   "source": [
    "# Задача 7\n",
    "\n",
    "\n",
    "Добавить в ДЗ5 методы атаки персонажей. Продемонстрировать, что при атаке первого персонажа, у 2ого отнимается здоровье, а у первого расходуется мана или накапливается усталость.\n",
    "\n",
    "Добавить в ДЗ5 методы дебафа. Чтобы персонажи могли замедлять скорость перемещения друг друга. (например, если дефолтное скорость персонажа 2 м/с или 2 клетки за шаг, то после дебафа - 1м/с или 1 клетка за шаг). Помните, что дебаф действует некоторое время (несколько секунд или несколько шагов - зависит от концепции вашей игры (пошаговая стратегия или онлайн)\n"
   ]
  },
  {
   "cell_type": "markdown",
   "metadata": {},
   "source": [
    "# Задача 8 (Генетический алгоритм)\n",
    "\n",
    "Создать класс клетки с данными ДНК - последовательность символов. Клетка должна уметь делиться (написать метод класса). Реализовать процесс деления так, чтобы он отражал биологический процесс. Как делать - решать вам."
   ]
  },
  {
   "cell_type": "code",
   "execution_count": null,
   "metadata": {},
   "outputs": [],
   "source": []
  },
  {
   "cell_type": "code",
   "execution_count": null,
   "metadata": {},
   "outputs": [],
   "source": []
  },
  {
   "cell_type": "markdown",
   "metadata": {},
   "source": [
    "Удачи! Дедлайн по ДЗ67 - до след выходных включительно, 27.10.2019 (23:59)\n",
    "Выкладывайте решение на гитхаб, присылайте письмо со ссылкой на почту. Как всегда крч."
   ]
  },
  {
   "cell_type": "code",
   "execution_count": null,
   "metadata": {},
   "outputs": [],
   "source": []
  }
 ],
 "metadata": {
  "kernelspec": {
   "display_name": "Python 3",
   "language": "python",
   "name": "python3"
  },
  "language_info": {
   "codemirror_mode": {
    "name": "ipython",
    "version": 3
   },
   "file_extension": ".py",
   "mimetype": "text/x-python",
   "name": "python",
   "nbconvert_exporter": "python",
   "pygments_lexer": "ipython3",
   "version": "3.7.1"
  }
 },
 "nbformat": 4,
 "nbformat_minor": 2
}

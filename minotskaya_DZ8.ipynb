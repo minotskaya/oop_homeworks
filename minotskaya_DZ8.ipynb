{
 "cells": [
  {
   "cell_type": "markdown",
   "metadata": {},
   "source": [
    "# Многопоточность в Python. Библиотеки threading и multiprocessing.\n",
    "\n",
    "http://cs.mipt.ru/advanced_python/lessons/lab6.html"
   ]
  },
  {
   "cell_type": "markdown",
   "metadata": {},
   "source": [
    "## Задание 1:\n",
    "\n",
    "распараллелить чистку текста (колонки text). Функция чистки текста уже написана за вас. Вам нужно только установить все библиотеки (например, через анаконду)\n",
    "\n",
    "\n",
    "https://anaconda.org/anaconda/nltk"
   ]
  },
  {
   "cell_type": "code",
   "execution_count": 2,
   "metadata": {},
   "outputs": [],
   "source": [
    "# подрубаем нужные библиотеки\n",
    "import os # для путей\n",
    "import numpy as np # для массивов\n",
    "import pandas as pd # для работы и хранения данных в ОП\n",
    "\n",
    "import warnings \n",
    "warnings.filterwarnings('ignore') # все предупреждения офф - чтобы не мешали\n",
    "\n",
    "from nltk.corpus import stopwords # частые слова\n",
    "from nltk.stem import PorterStemmer # нлтк стеммер\n",
    "from nltk.stem import WordNetLemmatizer # нлтк лемматизатор\n",
    "from nltk import word_tokenize, sent_tokenize # для разбиения предложений на токены-слова\n",
    "import re # библиотека для регулярных выражений"
   ]
  },
  {
   "cell_type": "markdown",
   "metadata": {},
   "source": [
    "данные здесь: https://www.kaggle.com/c/dlinnlp-spring-2019-clf/data"
   ]
  },
  {
   "cell_type": "code",
   "execution_count": 3,
   "metadata": {},
   "outputs": [
    {
     "name": "stdout",
     "output_type": "stream",
     "text": [
      "24871 5647 30518\n"
     ]
    },
    {
     "data": {
      "text/html": [
       "<div>\n",
       "<style scoped>\n",
       "    .dataframe tbody tr th:only-of-type {\n",
       "        vertical-align: middle;\n",
       "    }\n",
       "\n",
       "    .dataframe tbody tr th {\n",
       "        vertical-align: top;\n",
       "    }\n",
       "\n",
       "    .dataframe thead th {\n",
       "        text-align: right;\n",
       "    }\n",
       "</style>\n",
       "<table border=\"1\" class=\"dataframe\">\n",
       "  <thead>\n",
       "    <tr style=\"text-align: right;\">\n",
       "      <th></th>\n",
       "      <th>text</th>\n",
       "      <th>title</th>\n",
       "    </tr>\n",
       "  </thead>\n",
       "  <tbody>\n",
       "    <tr>\n",
       "      <th>0</th>\n",
       "      <td>Economists generally agree: China must overhau...</td>\n",
       "      <td>China and Economic Reform: Xi Jinping’s Track ...</td>\n",
       "    </tr>\n",
       "    <tr>\n",
       "      <th>1</th>\n",
       "      <td>LONDON—British Prime Minister Theresa May said...</td>\n",
       "      <td>Trade to Be a Big Topic in Theresa May’s U.S. ...</td>\n",
       "    </tr>\n",
       "    <tr>\n",
       "      <th>2</th>\n",
       "      <td>Beaches come in all sorts of shapes and sizes ...</td>\n",
       "      <td>The Top Beaches In The World, According To Nat...</td>\n",
       "    </tr>\n",
       "    <tr>\n",
       "      <th>3</th>\n",
       "      <td>A timeline of what happened after Tamir Rice, ...</td>\n",
       "      <td>Sheriff’s Report Provides New Details on Tamir...</td>\n",
       "    </tr>\n",
       "    <tr>\n",
       "      <th>4</th>\n",
       "      <td>An Italian neurosurgeon who has claimed for mo...</td>\n",
       "      <td>Surgeon claiming he will transplant volunteer'...</td>\n",
       "    </tr>\n",
       "    <tr>\n",
       "      <th>5</th>\n",
       "      <td>Spanx does not do the thing I thought it did. ...</td>\n",
       "      <td>This Is How Differently Priced Spanx Can Actua...</td>\n",
       "    </tr>\n",
       "    <tr>\n",
       "      <th>6</th>\n",
       "      <td>“Jane Pauley! You’re all in leather,” said Sam...</td>\n",
       "      <td>Samantha Bee and Jane Pauley Are Breaking the ...</td>\n",
       "    </tr>\n",
       "    <tr>\n",
       "      <th>7</th>\n",
       "      <td>Charles Krauthammer called President Trump's 5...</td>\n",
       "      <td>Krauthammer: Syria Strike 'Total Contradiction...</td>\n",
       "    </tr>\n",
       "    <tr>\n",
       "      <th>8</th>\n",
       "      <td>The United States is making more things than e...</td>\n",
       "      <td>Rust Belt voters made Trump president. Now the...</td>\n",
       "    </tr>\n",
       "    <tr>\n",
       "      <th>9</th>\n",
       "      <td>As Jewish settlers and protesters were removed...</td>\n",
       "      <td>As Illegal Outpost Cleared, Israeli PM Netanya...</td>\n",
       "    </tr>\n",
       "  </tbody>\n",
       "</table>\n",
       "</div>"
      ],
      "text/plain": [
       "                                                text  \\\n",
       "0  Economists generally agree: China must overhau...   \n",
       "1  LONDON—British Prime Minister Theresa May said...   \n",
       "2  Beaches come in all sorts of shapes and sizes ...   \n",
       "3  A timeline of what happened after Tamir Rice, ...   \n",
       "4  An Italian neurosurgeon who has claimed for mo...   \n",
       "5  Spanx does not do the thing I thought it did. ...   \n",
       "6  “Jane Pauley! You’re all in leather,” said Sam...   \n",
       "7  Charles Krauthammer called President Trump's 5...   \n",
       "8  The United States is making more things than e...   \n",
       "9  As Jewish settlers and protesters were removed...   \n",
       "\n",
       "                                               title  \n",
       "0  China and Economic Reform: Xi Jinping’s Track ...  \n",
       "1  Trade to Be a Big Topic in Theresa May’s U.S. ...  \n",
       "2  The Top Beaches In The World, According To Nat...  \n",
       "3  Sheriff’s Report Provides New Details on Tamir...  \n",
       "4  Surgeon claiming he will transplant volunteer'...  \n",
       "5  This Is How Differently Priced Spanx Can Actua...  \n",
       "6  Samantha Bee and Jane Pauley Are Breaking the ...  \n",
       "7  Krauthammer: Syria Strike 'Total Contradiction...  \n",
       "8  Rust Belt voters made Trump president. Now the...  \n",
       "9  As Illegal Outpost Cleared, Israeli PM Netanya...  "
      ]
     },
     "execution_count": 3,
     "metadata": {},
     "output_type": "execute_result"
    }
   ],
   "source": [
    "train_df = pd.read_csv ('train.csv')\n",
    "test_df = pd.read_csv ('test.csv')\n",
    "df = pd.concat([train_df, test_df], axis=0, ignore_index=True).drop(['Unnamed: 0', 'label'], axis=1)\n",
    "print(len(train_df), len(test_df), len(df))\n",
    "df.head(10)"
   ]
  },
  {
   "cell_type": "code",
   "execution_count": 4,
   "metadata": {},
   "outputs": [],
   "source": [
    "# функция для очистки текста\n",
    "\n",
    "def clean_text(data):\n",
    "    low = True \n",
    "    delstops = True\n",
    "    lemm = True\n",
    "    stem = True\n",
    "    del12gram = True  # True = убираем обрывки слов в 1-2 символа\n",
    "    \n",
    "    \n",
    "    stops = set(stopwords.words(\"english\"))\n",
    "    data = str(data)\n",
    "    data = re.sub(r'[^a-zA-Z ]',r' ',data)\n",
    "    data = ' '.join(data.split()) #убираем лишние пробелы\n",
    "    \n",
    "    if low:\n",
    "        data = data.lower()\n",
    "    \n",
    "    if delstops:\n",
    "        data = \" \".join([w for w in data.split() if w not in stops])\n",
    "\n",
    "    if lemm:      \n",
    "        wordnet_lemmatizer = WordNetLemmatizer()\n",
    "        data = \" \".join([wordnet_lemmatizer.lemmatize(w, pos='a') for w in data.split()])\n",
    "        data = \" \".join([wordnet_lemmatizer.lemmatize(w, pos='n') for w in data.split()])\n",
    "        \n",
    "    if stem:\n",
    "        st = PorterStemmer()\n",
    "        data = \" \".join([st.stem(w) for w in data.split()])\n",
    "        \n",
    "    if del12gram:\n",
    "        data = \" \".join([w for w in data.split() if len(w) > 2])  \n",
    "          \n",
    "    return data"
   ]
  },
  {
   "cell_type": "code",
   "execution_count": 10,
   "metadata": {},
   "outputs": [
    {
     "name": "stdout",
     "output_type": "stream",
     "text": [
      "Wall time: 10min 19s\n"
     ]
    }
   ],
   "source": [
    "%%time\n",
    "# применяем функцию очистки текста\n",
    "df['cleaned_text'] = df['text'].map(clean_text) # ~ Wall time: 5min 34s"
   ]
  },
  {
   "cell_type": "code",
   "execution_count": 18,
   "metadata": {},
   "outputs": [
    {
     "data": {
      "text/html": [
       "<div>\n",
       "<style scoped>\n",
       "    .dataframe tbody tr th:only-of-type {\n",
       "        vertical-align: middle;\n",
       "    }\n",
       "\n",
       "    .dataframe tbody tr th {\n",
       "        vertical-align: top;\n",
       "    }\n",
       "\n",
       "    .dataframe thead th {\n",
       "        text-align: right;\n",
       "    }\n",
       "</style>\n",
       "<table border=\"1\" class=\"dataframe\">\n",
       "  <thead>\n",
       "    <tr style=\"text-align: right;\">\n",
       "      <th></th>\n",
       "      <th>text</th>\n",
       "      <th>title</th>\n",
       "      <th>cleaned_text</th>\n",
       "    </tr>\n",
       "  </thead>\n",
       "  <tbody>\n",
       "    <tr>\n",
       "      <th>0</th>\n",
       "      <td>Economists generally agree: China must overhau...</td>\n",
       "      <td>China and Economic Reform: Xi Jinping’s Track ...</td>\n",
       "      <td>economist gener agre china must overhaul huge ...</td>\n",
       "    </tr>\n",
       "    <tr>\n",
       "      <th>1</th>\n",
       "      <td>LONDON—British Prime Minister Theresa May said...</td>\n",
       "      <td>Trade to Be a Big Topic in Theresa May’s U.S. ...</td>\n",
       "      <td>london british prime minist theresa may said d...</td>\n",
       "    </tr>\n",
       "    <tr>\n",
       "      <th>2</th>\n",
       "      <td>Beaches come in all sorts of shapes and sizes ...</td>\n",
       "      <td>The Top Beaches In The World, According To Nat...</td>\n",
       "      <td>beach come sort shape size beyond typic caribb...</td>\n",
       "    </tr>\n",
       "    <tr>\n",
       "      <th>3</th>\n",
       "      <td>A timeline of what happened after Tamir Rice, ...</td>\n",
       "      <td>Sheriff’s Report Provides New Details on Tamir...</td>\n",
       "      <td>timelin happen tamir rice year old boy kill po...</td>\n",
       "    </tr>\n",
       "    <tr>\n",
       "      <th>4</th>\n",
       "      <td>An Italian neurosurgeon who has claimed for mo...</td>\n",
       "      <td>Surgeon claiming he will transplant volunteer'...</td>\n",
       "      <td>italian neurosurgeon claim month perform world...</td>\n",
       "    </tr>\n",
       "    <tr>\n",
       "      <th>5</th>\n",
       "      <td>Spanx does not do the thing I thought it did. ...</td>\n",
       "      <td>This Is How Differently Priced Spanx Can Actua...</td>\n",
       "      <td>spanx thing thought kristin like mani ladi lil...</td>\n",
       "    </tr>\n",
       "    <tr>\n",
       "      <th>6</th>\n",
       "      <td>“Jane Pauley! You’re all in leather,” said Sam...</td>\n",
       "      <td>Samantha Bee and Jane Pauley Are Breaking the ...</td>\n",
       "      <td>jane pauley leather said samantha bee pauley w...</td>\n",
       "    </tr>\n",
       "    <tr>\n",
       "      <th>7</th>\n",
       "      <td>Charles Krauthammer called President Trump's 5...</td>\n",
       "      <td>Krauthammer: Syria Strike 'Total Contradiction...</td>\n",
       "      <td>charl krauthamm call presid trump missil strik...</td>\n",
       "    </tr>\n",
       "    <tr>\n",
       "      <th>8</th>\n",
       "      <td>The United States is making more things than e...</td>\n",
       "      <td>Rust Belt voters made Trump president. Now the...</td>\n",
       "      <td>unit state make thing ever read right manufact...</td>\n",
       "    </tr>\n",
       "    <tr>\n",
       "      <th>9</th>\n",
       "      <td>As Jewish settlers and protesters were removed...</td>\n",
       "      <td>As Illegal Outpost Cleared, Israeli PM Netanya...</td>\n",
       "      <td>jewish settler protest remov illeg outpost occ...</td>\n",
       "    </tr>\n",
       "  </tbody>\n",
       "</table>\n",
       "</div>"
      ],
      "text/plain": [
       "                                                text  \\\n",
       "0  Economists generally agree: China must overhau...   \n",
       "1  LONDON—British Prime Minister Theresa May said...   \n",
       "2  Beaches come in all sorts of shapes and sizes ...   \n",
       "3  A timeline of what happened after Tamir Rice, ...   \n",
       "4  An Italian neurosurgeon who has claimed for mo...   \n",
       "5  Spanx does not do the thing I thought it did. ...   \n",
       "6  “Jane Pauley! You’re all in leather,” said Sam...   \n",
       "7  Charles Krauthammer called President Trump's 5...   \n",
       "8  The United States is making more things than e...   \n",
       "9  As Jewish settlers and protesters were removed...   \n",
       "\n",
       "                                               title  \\\n",
       "0  China and Economic Reform: Xi Jinping’s Track ...   \n",
       "1  Trade to Be a Big Topic in Theresa May’s U.S. ...   \n",
       "2  The Top Beaches In The World, According To Nat...   \n",
       "3  Sheriff’s Report Provides New Details on Tamir...   \n",
       "4  Surgeon claiming he will transplant volunteer'...   \n",
       "5  This Is How Differently Priced Spanx Can Actua...   \n",
       "6  Samantha Bee and Jane Pauley Are Breaking the ...   \n",
       "7  Krauthammer: Syria Strike 'Total Contradiction...   \n",
       "8  Rust Belt voters made Trump president. Now the...   \n",
       "9  As Illegal Outpost Cleared, Israeli PM Netanya...   \n",
       "\n",
       "                                        cleaned_text  \n",
       "0  economist gener agre china must overhaul huge ...  \n",
       "1  london british prime minist theresa may said d...  \n",
       "2  beach come sort shape size beyond typic caribb...  \n",
       "3  timelin happen tamir rice year old boy kill po...  \n",
       "4  italian neurosurgeon claim month perform world...  \n",
       "5  spanx thing thought kristin like mani ladi lil...  \n",
       "6  jane pauley leather said samantha bee pauley w...  \n",
       "7  charl krauthamm call presid trump missil strik...  \n",
       "8  unit state make thing ever read right manufact...  \n",
       "9  jewish settler protest remov illeg outpost occ...  "
      ]
     },
     "execution_count": 18,
     "metadata": {},
     "output_type": "execute_result"
    }
   ],
   "source": [
    "df.head(10)"
   ]
  },
  {
   "cell_type": "code",
   "execution_count": 40,
   "metadata": {},
   "outputs": [],
   "source": [
    "import threading"
   ]
  },
  {
   "cell_type": "code",
   "execution_count": 23,
   "metadata": {},
   "outputs": [],
   "source": [
    "length = df['text'].shape[0]"
   ]
  },
  {
   "cell_type": "code",
   "execution_count": 42,
   "metadata": {},
   "outputs": [],
   "source": [
    "ind = [range(0, length//4), range(length//4, length//2), range(length//2, 3*length//4), range(3*length//4, length)]"
   ]
  },
  {
   "cell_type": "code",
   "execution_count": 37,
   "metadata": {},
   "outputs": [],
   "source": [
    "def thread_job(number, data):\n",
    "    df.iloc[ind[number], 3] = list(map(clean_text, data))\n",
    "    print(f'Thread {number}/4 is done')"
   ]
  },
  {
   "cell_type": "code",
   "execution_count": 38,
   "metadata": {},
   "outputs": [],
   "source": [
    "def run_threads():\n",
    "    threads = [threading.Thread(target=thread_job, args=(i,df['text'].values[ind[i]],)) for i in range(4)]\n",
    "    for thread in threads:\n",
    "        thread.start() \n",
    "    for thread in threads:\n",
    "        thread.join()"
   ]
  },
  {
   "cell_type": "code",
   "execution_count": 43,
   "metadata": {},
   "outputs": [
    {
     "name": "stderr",
     "output_type": "stream",
     "text": [
      "Exception in thread Thread-11:\n",
      "Traceback (most recent call last):\n",
      "  File \"C:\\Users\\Lisa\\Anaconda3\\lib\\threading.py\", line 917, in _bootstrap_inner\n",
      "    self.run()\n",
      "  File \"C:\\Users\\Lisa\\Anaconda3\\lib\\threading.py\", line 865, in run\n",
      "    self._target(*self._args, **self._kwargs)\n",
      "  File \"<ipython-input-37-bb0cc18b3311>\", line 2, in thread_job\n",
      "    df.iloc[ind[number], 3] = list(map(clean_text, data))\n",
      "  File \"C:\\Users\\Lisa\\Anaconda3\\lib\\site-packages\\pandas\\core\\indexing.py\", line 188, in __setitem__\n",
      "    indexer = self._get_setitem_indexer(key)\n",
      "  File \"C:\\Users\\Lisa\\Anaconda3\\lib\\site-packages\\pandas\\core\\indexing.py\", line 166, in _get_setitem_indexer\n",
      "    return self._convert_tuple(key, is_setter=True)\n",
      "  File \"C:\\Users\\Lisa\\Anaconda3\\lib\\site-packages\\pandas\\core\\indexing.py\", line 247, in _convert_tuple\n",
      "    idx = self._convert_to_indexer(k, axis=i, is_setter=is_setter)\n",
      "  File \"C:\\Users\\Lisa\\Anaconda3\\lib\\site-packages\\pandas\\core\\indexing.py\", line 2119, in _convert_to_indexer\n",
      "    self._validate_key(obj, axis)\n",
      "  File \"C:\\Users\\Lisa\\Anaconda3\\lib\\site-packages\\pandas\\core\\indexing.py\", line 1957, in _validate_key\n",
      "    self._validate_integer(key, axis)\n",
      "  File \"C:\\Users\\Lisa\\Anaconda3\\lib\\site-packages\\pandas\\core\\indexing.py\", line 2009, in _validate_integer\n",
      "    raise IndexError(\"single positional indexer is out-of-bounds\")\n",
      "IndexError: single positional indexer is out-of-bounds\n",
      "\n",
      "Exception in thread Thread-12:\n",
      "Traceback (most recent call last):\n",
      "  File \"C:\\Users\\Lisa\\Anaconda3\\lib\\threading.py\", line 917, in _bootstrap_inner\n",
      "    self.run()\n",
      "  File \"C:\\Users\\Lisa\\Anaconda3\\lib\\threading.py\", line 865, in run\n",
      "    self._target(*self._args, **self._kwargs)\n",
      "  File \"<ipython-input-37-bb0cc18b3311>\", line 2, in thread_job\n",
      "    df.iloc[ind[number], 3] = list(map(clean_text, data))\n",
      "  File \"C:\\Users\\Lisa\\Anaconda3\\lib\\site-packages\\pandas\\core\\indexing.py\", line 188, in __setitem__\n",
      "    indexer = self._get_setitem_indexer(key)\n",
      "  File \"C:\\Users\\Lisa\\Anaconda3\\lib\\site-packages\\pandas\\core\\indexing.py\", line 166, in _get_setitem_indexer\n",
      "    return self._convert_tuple(key, is_setter=True)\n",
      "  File \"C:\\Users\\Lisa\\Anaconda3\\lib\\site-packages\\pandas\\core\\indexing.py\", line 247, in _convert_tuple\n",
      "    idx = self._convert_to_indexer(k, axis=i, is_setter=is_setter)\n",
      "  File \"C:\\Users\\Lisa\\Anaconda3\\lib\\site-packages\\pandas\\core\\indexing.py\", line 2119, in _convert_to_indexer\n",
      "    self._validate_key(obj, axis)\n",
      "  File \"C:\\Users\\Lisa\\Anaconda3\\lib\\site-packages\\pandas\\core\\indexing.py\", line 1957, in _validate_key\n",
      "    self._validate_integer(key, axis)\n",
      "  File \"C:\\Users\\Lisa\\Anaconda3\\lib\\site-packages\\pandas\\core\\indexing.py\", line 2009, in _validate_integer\n",
      "    raise IndexError(\"single positional indexer is out-of-bounds\")\n",
      "IndexError: single positional indexer is out-of-bounds\n",
      "\n",
      "Exception in thread Thread-9:\n",
      "Traceback (most recent call last):\n",
      "  File \"C:\\Users\\Lisa\\Anaconda3\\lib\\threading.py\", line 917, in _bootstrap_inner\n",
      "    self.run()\n",
      "  File \"C:\\Users\\Lisa\\Anaconda3\\lib\\threading.py\", line 865, in run\n",
      "    self._target(*self._args, **self._kwargs)\n",
      "  File \"<ipython-input-37-bb0cc18b3311>\", line 2, in thread_job\n",
      "    df.iloc[ind[number], 3] = list(map(clean_text, data))\n",
      "  File \"C:\\Users\\Lisa\\Anaconda3\\lib\\site-packages\\pandas\\core\\indexing.py\", line 188, in __setitem__\n",
      "    indexer = self._get_setitem_indexer(key)\n",
      "  File \"C:\\Users\\Lisa\\Anaconda3\\lib\\site-packages\\pandas\\core\\indexing.py\", line 166, in _get_setitem_indexer\n",
      "    return self._convert_tuple(key, is_setter=True)\n",
      "  File \"C:\\Users\\Lisa\\Anaconda3\\lib\\site-packages\\pandas\\core\\indexing.py\", line 247, in _convert_tuple\n",
      "    idx = self._convert_to_indexer(k, axis=i, is_setter=is_setter)\n",
      "  File \"C:\\Users\\Lisa\\Anaconda3\\lib\\site-packages\\pandas\\core\\indexing.py\", line 2119, in _convert_to_indexer\n",
      "    self._validate_key(obj, axis)\n",
      "  File \"C:\\Users\\Lisa\\Anaconda3\\lib\\site-packages\\pandas\\core\\indexing.py\", line 1957, in _validate_key\n",
      "    self._validate_integer(key, axis)\n",
      "  File \"C:\\Users\\Lisa\\Anaconda3\\lib\\site-packages\\pandas\\core\\indexing.py\", line 2009, in _validate_integer\n",
      "    raise IndexError(\"single positional indexer is out-of-bounds\")\n",
      "IndexError: single positional indexer is out-of-bounds\n",
      "\n"
     ]
    },
    {
     "name": "stdout",
     "output_type": "stream",
     "text": [
      "Wall time: 5min 4s\n"
     ]
    },
    {
     "name": "stderr",
     "output_type": "stream",
     "text": [
      "Exception in thread Thread-10:\n",
      "Traceback (most recent call last):\n",
      "  File \"C:\\Users\\Lisa\\Anaconda3\\lib\\threading.py\", line 917, in _bootstrap_inner\n",
      "    self.run()\n",
      "  File \"C:\\Users\\Lisa\\Anaconda3\\lib\\threading.py\", line 865, in run\n",
      "    self._target(*self._args, **self._kwargs)\n",
      "  File \"<ipython-input-37-bb0cc18b3311>\", line 2, in thread_job\n",
      "    df.iloc[ind[number], 3] = list(map(clean_text, data))\n",
      "  File \"C:\\Users\\Lisa\\Anaconda3\\lib\\site-packages\\pandas\\core\\indexing.py\", line 188, in __setitem__\n",
      "    indexer = self._get_setitem_indexer(key)\n",
      "  File \"C:\\Users\\Lisa\\Anaconda3\\lib\\site-packages\\pandas\\core\\indexing.py\", line 166, in _get_setitem_indexer\n",
      "    return self._convert_tuple(key, is_setter=True)\n",
      "  File \"C:\\Users\\Lisa\\Anaconda3\\lib\\site-packages\\pandas\\core\\indexing.py\", line 247, in _convert_tuple\n",
      "    idx = self._convert_to_indexer(k, axis=i, is_setter=is_setter)\n",
      "  File \"C:\\Users\\Lisa\\Anaconda3\\lib\\site-packages\\pandas\\core\\indexing.py\", line 2119, in _convert_to_indexer\n",
      "    self._validate_key(obj, axis)\n",
      "  File \"C:\\Users\\Lisa\\Anaconda3\\lib\\site-packages\\pandas\\core\\indexing.py\", line 1957, in _validate_key\n",
      "    self._validate_integer(key, axis)\n",
      "  File \"C:\\Users\\Lisa\\Anaconda3\\lib\\site-packages\\pandas\\core\\indexing.py\", line 2009, in _validate_integer\n",
      "    raise IndexError(\"single positional indexer is out-of-bounds\")\n",
      "IndexError: single positional indexer is out-of-bounds\n",
      "\n"
     ]
    }
   ],
   "source": [
    "%%time\n",
    "run_threads()"
   ]
  },
  {
   "cell_type": "markdown",
   "metadata": {},
   "source": [
    "# Задание 2\n",
    "\n",
    "Иногда бывает нужно узнать доступность набора ip адресов. Неэффективный вариант представлен ниже.\n",
    "\n",
    "Реализуйте то же самое, но используя threading."
   ]
  },
  {
   "cell_type": "code",
   "execution_count": 49,
   "metadata": {},
   "outputs": [
    {
     "name": "stdout",
     "output_type": "stream",
     "text": [
      "... pinging  192.168.178.20\n",
      "... pinging  192.168.178.21\n",
      "... pinging  192.168.178.22\n",
      "... pinging  192.168.178.23\n",
      "... pinging  192.168.178.24\n",
      "... pinging  192.168.178.25\n",
      "... pinging  192.168.178.26\n",
      "... pinging  192.168.178.27\n",
      "... pinging  192.168.178.28\n",
      "... pinging  192.168.178.29\n",
      "Wall time: 523 ms\n"
     ]
    }
   ],
   "source": [
    "%%time\n",
    "\n",
    "received_packages = re.compile(r\"(\\d) received\")\n",
    "status = (\"no response\", \"alive but losses\", \"alive\")\n",
    "\n",
    "for suffix in range(20, 30):\n",
    "    ip = \"192.168.178.\" + str(suffix)\n",
    "    ping_out = os.popen(\"ping -q -c2 \" + ip, \"r\")  # получение вердикта\n",
    "    print(\"... pinging \", ip)\n",
    "    while True:\n",
    "        line = ping_out.readline()\n",
    "        if not line:\n",
    "            break\n",
    "        n_received = received_packages.findall(line)\n",
    "        if n_received:\n",
    "            print(ip + \": \" + status[int(n_received[0])])"
   ]
  },
  {
   "cell_type": "code",
   "execution_count": 54,
   "metadata": {},
   "outputs": [],
   "source": [
    "def thread_job(number, _range):\n",
    "    received_packages = re.compile(r\"(\\d) received\")\n",
    "    status = (\"no response\", \"alive but losses\", \"alive\")\n",
    "\n",
    "    for suffix in _range:\n",
    "        ip = \"192.168.178.\" + str(suffix)\n",
    "        ping_out = os.popen(\"ping -q -c2 \" + ip, \"r\")  # получение вердикта\n",
    "        print(\"... pinging \", ip)\n",
    "        while True:\n",
    "            line = ping_out.readline()\n",
    "            if not line:\n",
    "                break\n",
    "            n_received = received_packages.findall(line)\n",
    "            if n_received:\n",
    "                print(ip + \": \" + status[int(n_received[0])])\n",
    "\n",
    "ranges = [range(20,25),range(25,30)]\n",
    "def run_threads(count):\n",
    "    threads = [\n",
    "        threading.Thread(target=thread_job, args=(i,ranges[i]))\n",
    "        for i in range(0, count)\n",
    "    ]\n",
    "    for thread in threads:\n",
    "        thread.start() \n",
    "    for thread in threads:\n",
    "        thread.join()\n",
    "        "
   ]
  },
  {
   "cell_type": "code",
   "execution_count": 53,
   "metadata": {},
   "outputs": [
    {
     "name": "stdout",
     "output_type": "stream",
     "text": [
      "... pinging  192.168.178.20\n",
      "... pinging  192.168.178.25\n",
      "... pinging  192.168.178.21\n",
      "... pinging  192.168.178.26\n",
      "... pinging  192.168.178.22\n",
      "... pinging  192.168.178.27\n",
      "... pinging  192.168.178.23\n",
      "... pinging  192.168.178.28\n",
      "... pinging ... pinging  192.168.178.24\n",
      " 192.168.178.29\n",
      "Wall time: 727 ms\n"
     ]
    }
   ],
   "source": [
    "%%time\n",
    "\n",
    "run_threads(2)"
   ]
  },
  {
   "cell_type": "markdown",
   "metadata": {},
   "source": [
    "# Задание 3\n",
    "\n",
    "= Упражнение №4 из лабы про мультипроцессинг"
   ]
  },
  {
   "cell_type": "code",
   "execution_count": 56,
   "metadata": {},
   "outputs": [
    {
     "name": "stdout",
     "output_type": "stream",
     "text": [
      "4.49766731262207\n"
     ]
    }
   ],
   "source": [
    "import urllib.request\n",
    "import time\n",
    "\n",
    "\n",
    "urls = [\n",
    "    'https://www.yandex.ru', 'https://www.google.com',\n",
    "    'https://habrahabr.ru', 'https://www.python.org',\n",
    "    'https://isocpp.org',\n",
    "]\n",
    "\n",
    "\n",
    "def read_url(url):\n",
    "    with urllib.request.urlopen(url) as u:\n",
    "        return u.read()\n",
    "\n",
    "\n",
    "start = time.time()\n",
    "for url in urls:\n",
    "    read_url(url)\n",
    "print(time.time() - start)"
   ]
  },
  {
   "cell_type": "code",
   "execution_count": 57,
   "metadata": {},
   "outputs": [],
   "source": [
    "def thread_job(number, url):\n",
    "    read_url(url)\n",
    "def run_threads():\n",
    "    threads = [\n",
    "        threading.Thread(target=thread_job, args=(i,urls[i]))\n",
    "        for i in range(0, 5)\n",
    "    ]\n",
    "    for thread in threads:\n",
    "        thread.start() \n",
    "    for thread in threads:\n",
    "        thread.join()"
   ]
  },
  {
   "cell_type": "code",
   "execution_count": 58,
   "metadata": {},
   "outputs": [
    {
     "name": "stdout",
     "output_type": "stream",
     "text": [
      "Wall time: 1.56 s\n"
     ]
    }
   ],
   "source": [
    "%%time\n",
    "run_threads()"
   ]
  },
  {
   "cell_type": "code",
   "execution_count": 59,
   "metadata": {},
   "outputs": [],
   "source": [
    "from multiprocessing import Process"
   ]
  },
  {
   "cell_type": "code",
   "execution_count": 60,
   "metadata": {},
   "outputs": [],
   "source": [
    "def run_processes():    \n",
    "    processes = [\n",
    "        Process(target=read_url, args=(urls[i],))\n",
    "        for i in range(0, 5)\n",
    "    ]\n",
    "    for proc in processes:\n",
    "        proc.start() \n",
    "    for proc in processes:\n",
    "        proc.join()"
   ]
  },
  {
   "cell_type": "code",
   "execution_count": 61,
   "metadata": {},
   "outputs": [
    {
     "name": "stdout",
     "output_type": "stream",
     "text": [
      "Wall time: 744 ms\n"
     ]
    }
   ],
   "source": [
    "%%time\n",
    "run_processes()"
   ]
  },
  {
   "cell_type": "markdown",
   "metadata": {},
   "source": [
    "дедлайн по ДЗ8 - вечер следующего вс 3.11.2019 23:59. Удачи!"
   ]
  }
 ],
 "metadata": {
  "kernelspec": {
   "display_name": "Python 3",
   "language": "python",
   "name": "python3"
  },
  "language_info": {
   "codemirror_mode": {
    "name": "ipython",
    "version": 3
   },
   "file_extension": ".py",
   "mimetype": "text/x-python",
   "name": "python",
   "nbconvert_exporter": "python",
   "pygments_lexer": "ipython3",
   "version": "3.7.1"
  }
 },
 "nbformat": 4,
 "nbformat_minor": 2
}

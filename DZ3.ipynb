{
 "cells": [
  {
   "cell_type": "markdown",
   "metadata": {},
   "source": [
    "# Предисловие\n",
    "\n",
    "- Задание ДЗ3: выгрузить данные и сформировать из них dataframe в pandas\n",
    "- Задание ДЗ3* (доп): кто хочет продвигаться в анализе данных, советую сделать анализ выгруженных данных с помощью pandas\n",
    "\n",
    "![drakkar image](https://cs8.pikabu.ru/post_img/big/2016/06/15/6/146598388513055440.png)\n",
    "\n",
    "это третье домашнее задание (второе дз было на повторение линукса - самостоятельно, я не буду его проверять)\n"
   ]
  },
  {
   "cell_type": "markdown",
   "metadata": {},
   "source": [
    "## Задание №1\n",
    "\n",
    "Скачайте файлы **Version 1** Steam data from [Recommender Systems Datasets](http://cseweb.ucsd.edu/~jmcauley/datasets.html#steam_data). \n",
    "\n",
    "нам нужны файлы:\n",
    "- Version 1: Review Data \n",
    "- Version 1: User and Item Data "
   ]
  },
  {
   "cell_type": "markdown",
   "metadata": {},
   "source": [
    "Ваша задача развернуть данные в pd.DataFrame (ДЗ3)"
   ]
  },
  {
   "cell_type": "code",
   "execution_count": 2,
   "metadata": {},
   "outputs": [],
   "source": [
    "# Your code should be written below:\n",
    "import pandas as pd\n",
    "import ast\n",
    "import json"
   ]
  },
  {
   "cell_type": "code",
   "execution_count": 4,
   "metadata": {},
   "outputs": [],
   "source": [
    "with open('australian_user_reviews.json', encoding=\"utf8\") as f:\n",
    "    row_data = f.readlines()\n",
    "    new_data = []\n",
    "    for line in row_data:\n",
    "        new_data.append(ast.literal_eval(line))"
   ]
  },
  {
   "cell_type": "code",
   "execution_count": 5,
   "metadata": {},
   "outputs": [
    {
     "data": {
      "text/html": [
       "<div>\n",
       "<style scoped>\n",
       "    .dataframe tbody tr th:only-of-type {\n",
       "        vertical-align: middle;\n",
       "    }\n",
       "\n",
       "    .dataframe tbody tr th {\n",
       "        vertical-align: top;\n",
       "    }\n",
       "\n",
       "    .dataframe thead th {\n",
       "        text-align: right;\n",
       "    }\n",
       "</style>\n",
       "<table border=\"1\" class=\"dataframe\">\n",
       "  <thead>\n",
       "    <tr style=\"text-align: right;\">\n",
       "      <th></th>\n",
       "      <th>reviews</th>\n",
       "      <th>user_id</th>\n",
       "      <th>user_url</th>\n",
       "    </tr>\n",
       "  </thead>\n",
       "  <tbody>\n",
       "    <tr>\n",
       "      <th>0</th>\n",
       "      <td>[{'funny': '', 'posted': 'Posted November 5, 2...</td>\n",
       "      <td>76561197970982479</td>\n",
       "      <td>http://steamcommunity.com/profiles/76561197970...</td>\n",
       "    </tr>\n",
       "    <tr>\n",
       "      <th>1</th>\n",
       "      <td>[{'funny': '', 'posted': 'Posted June 24, 2014...</td>\n",
       "      <td>js41637</td>\n",
       "      <td>http://steamcommunity.com/id/js41637</td>\n",
       "    </tr>\n",
       "    <tr>\n",
       "      <th>2</th>\n",
       "      <td>[{'funny': '', 'posted': 'Posted February 3.',...</td>\n",
       "      <td>evcentric</td>\n",
       "      <td>http://steamcommunity.com/id/evcentric</td>\n",
       "    </tr>\n",
       "    <tr>\n",
       "      <th>3</th>\n",
       "      <td>[{'funny': '', 'posted': 'Posted October 14, 2...</td>\n",
       "      <td>doctr</td>\n",
       "      <td>http://steamcommunity.com/id/doctr</td>\n",
       "    </tr>\n",
       "    <tr>\n",
       "      <th>4</th>\n",
       "      <td>[{'funny': '3 people found this review funny',...</td>\n",
       "      <td>maplemage</td>\n",
       "      <td>http://steamcommunity.com/id/maplemage</td>\n",
       "    </tr>\n",
       "  </tbody>\n",
       "</table>\n",
       "</div>"
      ],
      "text/plain": [
       "                                             reviews            user_id  \\\n",
       "0  [{'funny': '', 'posted': 'Posted November 5, 2...  76561197970982479   \n",
       "1  [{'funny': '', 'posted': 'Posted June 24, 2014...            js41637   \n",
       "2  [{'funny': '', 'posted': 'Posted February 3.',...          evcentric   \n",
       "3  [{'funny': '', 'posted': 'Posted October 14, 2...              doctr   \n",
       "4  [{'funny': '3 people found this review funny',...          maplemage   \n",
       "\n",
       "                                            user_url  \n",
       "0  http://steamcommunity.com/profiles/76561197970...  \n",
       "1               http://steamcommunity.com/id/js41637  \n",
       "2             http://steamcommunity.com/id/evcentric  \n",
       "3                 http://steamcommunity.com/id/doctr  \n",
       "4             http://steamcommunity.com/id/maplemage  "
      ]
     },
     "execution_count": 5,
     "metadata": {},
     "output_type": "execute_result"
    }
   ],
   "source": [
    "data = pd.DataFrame(new_data)\n",
    "data.head()"
   ]
  },
  {
   "cell_type": "markdown",
   "metadata": {},
   "source": [
    "Для reviews стоит немного предобработать данные, код ниже (следующие 2 блока кода возможно вам не понадобится, всё будет зависеть от того, как вы развернете данные - смотрите сами крч)"
   ]
  },
  {
   "cell_type": "code",
   "execution_count": 6,
   "metadata": {},
   "outputs": [
    {
     "data": {
      "text/plain": [
       "(25457, 3)"
      ]
     },
     "execution_count": 6,
     "metadata": {},
     "output_type": "execute_result"
    }
   ],
   "source": [
    "# drop duplicated user IDs\n",
    "data = data.drop_duplicates(subset='user_id')\n",
    "# drop users with no reviews\n",
    "data = data[data['reviews'].apply(len) > 0]\n",
    "data.shape"
   ]
  },
  {
   "cell_type": "code",
   "execution_count": 7,
   "metadata": {},
   "outputs": [],
   "source": [
    "def unpack_user_reviews(row):\n",
    "    \"Unpack items from the items in a user's row\"\n",
    "    # items is a series of lists - chain will make one long iterable\n",
    "    # convert this to a data frame\n",
    "    rdf = pd.DataFrame.from_records(row.reviews)\n",
    "    return rdf\n",
    "\n",
    "game_reviews = pd.concat((unpack_user_reviews(row) for row in data.itertuples()),\n",
    "                         ignore_index=True)"
   ]
  },
  {
   "cell_type": "markdown",
   "metadata": {},
   "source": [
    "## Подсчитайте следующие статистики: ДЗ3*\n",
    "### Q1: Количество уникальных юзеров:"
   ]
  },
  {
   "cell_type": "code",
   "execution_count": 9,
   "metadata": {},
   "outputs": [
    {
     "data": {
      "text/plain": [
       "25457"
      ]
     },
     "execution_count": 9,
     "metadata": {},
     "output_type": "execute_result"
    }
   ],
   "source": [
    "# Your code should be written below:\n",
    "len(pd.Series(data['user_id']).unique())"
   ]
  },
  {
   "cell_type": "markdown",
   "metadata": {},
   "source": [
    "### Q2: Количество уникального контента:"
   ]
  },
  {
   "cell_type": "code",
   "execution_count": 66,
   "metadata": {},
   "outputs": [
    {
     "data": {
      "text/plain": [
       "55312"
      ]
     },
     "execution_count": 66,
     "metadata": {},
     "output_type": "execute_result"
    }
   ],
   "source": [
    "# Your code should be written below\n",
    "\n",
    "len(pd.Series(game_reviews['review']).unique())"
   ]
  },
  {
   "cell_type": "markdown",
   "metadata": {},
   "source": [
    "### Q3: Найдите самый смешной review, рекомендовали ли там игру?\n"
   ]
  },
  {
   "cell_type": "code",
   "execution_count": 67,
   "metadata": {},
   "outputs": [
    {
     "name": "stdout",
     "output_type": "stream",
     "text": [
      "Самый смешной review: 'When a player quits EVE and goes to WoW, the average IQ in both games increases.'\n",
      "Да, игру рекомендовали.\n"
     ]
    }
   ],
   "source": [
    "# Your code should be written below\n",
    "\n",
    "game_reviews_ = game_reviews[game_reviews['funny'].apply(len) > 0]\n",
    "dict_funny = game_reviews_['funny'].to_dict()\n",
    "digits = {}\n",
    "for i in dict_funny.keys():\n",
    "    digits.update({i: int(''.join(x for x in dict_funny[i] if x.isdigit()))})\n",
    "for k, v in digits.items():\n",
    "    if v == max(digits.values()):\n",
    "        funniest_indx = k\n",
    "print('Самый смешной review: \\'{}\\''.format(game_reviews.loc[funniest_indx, 'review']))\n",
    "if game_reviews.loc[funniest_indx, 'recommend'] == True:\n",
    "    print('Да, игру рекомендовали.')"
   ]
  },
  {
   "cell_type": "code",
   "execution_count": 65,
   "metadata": {},
   "outputs": [
    {
     "data": {
      "text/plain": [
       "funny                       2,598 people found this review funny\n",
       "helpful        2,200 of 2,593 people (85%) found this review ...\n",
       "item_id                                                     8500\n",
       "last_edited                                                     \n",
       "posted                                 Posted November 20, 2015.\n",
       "recommend                                                   True\n",
       "review         When a player quits EVE and goes to WoW, the a...\n",
       "Name: 21895, dtype: object"
      ]
     },
     "execution_count": 65,
     "metadata": {},
     "output_type": "execute_result"
    }
   ],
   "source": [
    "game_reviews.loc[funniest_indx]"
   ]
  },
  {
   "cell_type": "markdown",
   "metadata": {},
   "source": [
    "### Q4: Уникальные пользователи:\n",
    "- Сколько пользователей купили все игры;\n",
    "- Сколько пользователей рекомендовали(recommend:True) все игры."
   ]
  },
  {
   "cell_type": "code",
   "execution_count": 101,
   "metadata": {},
   "outputs": [],
   "source": [
    "# Your code should be written below\n"
   ]
  },
  {
   "cell_type": "markdown",
   "metadata": {},
   "source": [
    "### Q5: Посмотрим на активность пользователей: \n",
    "#### Постройте следующие гистограммы: \n",
    "- Кол-во приобретенных игр на юзера;\n",
    "- Кол-во оставленных \"review\" на юзера."
   ]
  },
  {
   "cell_type": "code",
   "execution_count": null,
   "metadata": {},
   "outputs": [],
   "source": [
    "# Your code should be written below\n"
   ]
  },
  {
   "cell_type": "markdown",
   "metadata": {},
   "source": [
    "## Важно!\n",
    "#### Всё задание можно выполнить за 45 минут  (но это не точно) с учетом прогрузки данных! Если Ваш код работает дольше, то Вы что-то делаете не правильно.  \n",
    "### Удачи."
   ]
  },
  {
   "cell_type": "code",
   "execution_count": null,
   "metadata": {},
   "outputs": [],
   "source": []
  }
 ],
 "metadata": {
  "kernelspec": {
   "display_name": "Python 3",
   "language": "python",
   "name": "python3"
  },
  "language_info": {
   "codemirror_mode": {
    "name": "ipython",
    "version": 3
   },
   "file_extension": ".py",
   "mimetype": "text/x-python",
   "name": "python",
   "nbconvert_exporter": "python",
   "pygments_lexer": "ipython3",
   "version": "3.7.1"
  }
 },
 "nbformat": 4,
 "nbformat_minor": 2
}
